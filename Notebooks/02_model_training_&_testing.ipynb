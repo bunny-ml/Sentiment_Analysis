{
 "cells": [
  {
   "cell_type": "code",
   "execution_count": null,
   "id": "a81b690c",
   "metadata": {},
   "outputs": [],
   "source": [
    "import pandas as pd\n",
    "import numpy as np\n"
   ]
  },
  {
   "cell_type": "code",
   "execution_count": 108,
   "id": "2900614d",
   "metadata": {},
   "outputs": [],
   "source": [
    "df_train = pd.read_csv('/kaggle/working/train.csv')\n",
    "df_test = pd.read_csv('/kaggle/working/test.csv')"
   ]
  },
  {
   "cell_type": "code",
   "execution_count": 107,
   "id": "29339644",
   "metadata": {},
   "outputs": [
    {
     "data": {
      "text/html": [
       "<div>\n",
       "<style scoped>\n",
       "    .dataframe tbody tr th:only-of-type {\n",
       "        vertical-align: middle;\n",
       "    }\n",
       "\n",
       "    .dataframe tbody tr th {\n",
       "        vertical-align: top;\n",
       "    }\n",
       "\n",
       "    .dataframe thead th {\n",
       "        text-align: right;\n",
       "    }\n",
       "</style>\n",
       "<table border=\"1\" class=\"dataframe\">\n",
       "  <thead>\n",
       "    <tr style=\"text-align: right;\">\n",
       "      <th></th>\n",
       "      <th>polarity</th>\n",
       "      <th>text</th>\n",
       "      <th>text length</th>\n",
       "    </tr>\n",
       "  </thead>\n",
       "  <tbody>\n",
       "    <tr>\n",
       "      <th>236462</th>\n",
       "      <td>0</td>\n",
       "      <td>thought book would get better read fact got wo...</td>\n",
       "      <td>66</td>\n",
       "    </tr>\n",
       "    <tr>\n",
       "      <th>678876</th>\n",
       "      <td>0</td>\n",
       "      <td>product suppos moisten press product would sti...</td>\n",
       "      <td>71</td>\n",
       "    </tr>\n",
       "    <tr>\n",
       "      <th>1760231</th>\n",
       "      <td>1</td>\n",
       "      <td>finish read rabbi ebner collect poetri move te...</td>\n",
       "      <td>246</td>\n",
       "    </tr>\n",
       "    <tr>\n",
       "      <th>2931990</th>\n",
       "      <td>0</td>\n",
       "      <td>id thought movi televis actor got wors career ...</td>\n",
       "      <td>204</td>\n",
       "    </tr>\n",
       "    <tr>\n",
       "      <th>3275676</th>\n",
       "      <td>0</td>\n",
       "      <td>blanket great size easi fold perfectli waterre...</td>\n",
       "      <td>386</td>\n",
       "    </tr>\n",
       "    <tr>\n",
       "      <th>1791776</th>\n",
       "      <td>0</td>\n",
       "      <td>suppos get blu ray dvd order got blu ray movi ...</td>\n",
       "      <td>77</td>\n",
       "    </tr>\n",
       "    <tr>\n",
       "      <th>2439791</th>\n",
       "      <td>1</td>\n",
       "      <td>yoga least week tape kick butt never workout l...</td>\n",
       "      <td>103</td>\n",
       "    </tr>\n",
       "    <tr>\n",
       "      <th>3488854</th>\n",
       "      <td>1</td>\n",
       "      <td>im expect boy carri low result hurt walk produ...</td>\n",
       "      <td>159</td>\n",
       "    </tr>\n",
       "    <tr>\n",
       "      <th>526291</th>\n",
       "      <td>0</td>\n",
       "      <td>read review book exit order howev felt write d...</td>\n",
       "      <td>120</td>\n",
       "    </tr>\n",
       "    <tr>\n",
       "      <th>2213430</th>\n",
       "      <td>1</td>\n",
       "      <td>purchas kindl month ago love read book past mo...</td>\n",
       "      <td>83</td>\n",
       "    </tr>\n",
       "  </tbody>\n",
       "</table>\n",
       "</div>"
      ],
      "text/plain": [
       "         polarity                                               text  \\\n",
       "236462          0  thought book would get better read fact got wo...   \n",
       "678876          0  product suppos moisten press product would sti...   \n",
       "1760231         1  finish read rabbi ebner collect poetri move te...   \n",
       "2931990         0  id thought movi televis actor got wors career ...   \n",
       "3275676         0  blanket great size easi fold perfectli waterre...   \n",
       "1791776         0  suppos get blu ray dvd order got blu ray movi ...   \n",
       "2439791         1  yoga least week tape kick butt never workout l...   \n",
       "3488854         1  im expect boy carri low result hurt walk produ...   \n",
       "526291          0  read review book exit order howev felt write d...   \n",
       "2213430         1  purchas kindl month ago love read book past mo...   \n",
       "\n",
       "         text length  \n",
       "236462            66  \n",
       "678876            71  \n",
       "1760231          246  \n",
       "2931990          204  \n",
       "3275676          386  \n",
       "1791776           77  \n",
       "2439791          103  \n",
       "3488854          159  \n",
       "526291           120  \n",
       "2213430           83  "
      ]
     },
     "execution_count": 107,
     "metadata": {},
     "output_type": "execute_result"
    }
   ],
   "source": [
    "df_train.sample(10)"
   ]
  },
  {
   "cell_type": "code",
   "execution_count": 112,
   "id": "43824ef0",
   "metadata": {},
   "outputs": [
    {
     "name": "stdout",
     "output_type": "stream",
     "text": [
      "(3599793, 3)\n",
      "(399976, 3)\n"
     ]
    }
   ],
   "source": [
    "print(df_train.shape)\n",
    "print(df_test.shape)"
   ]
  }
 ],
 "metadata": {
  "kernelspec": {
   "display_name": "Python 3 (ipykernel)",
   "language": "python",
   "name": "python3"
  },
  "language_info": {
   "codemirror_mode": {
    "name": "ipython",
    "version": 3
   },
   "file_extension": ".py",
   "mimetype": "text/x-python",
   "name": "python",
   "nbconvert_exporter": "python",
   "pygments_lexer": "ipython3",
   "version": "3.11.13"
  }
 },
 "nbformat": 4,
 "nbformat_minor": 5
}
