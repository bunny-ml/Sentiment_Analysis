{
 "cells": [
  {
   "cell_type": "code",
   "execution_count": 37,
   "metadata": {
    "_cell_guid": "b1076dfc-b9ad-4769-8c92-a6c4dae69d19",
    "_uuid": "8f2839f25d086af736a60e9eeb907d3b93b6e0e5",
    "execution": {
     "iopub.execute_input": "2025-10-08T07:34:33.830408Z",
     "iopub.status.busy": "2025-10-08T07:34:33.830065Z",
     "iopub.status.idle": "2025-10-08T07:34:35.270021Z",
     "shell.execute_reply": "2025-10-08T07:34:35.268951Z",
     "shell.execute_reply.started": "2025-10-08T07:34:33.830382Z"
    },
    "trusted": true
   },
   "outputs": [],
   "source": [
    "import pandas as pd\n",
    "import numpy as np\n",
    "import seaborn as sns\n",
    "import matplotlib.pyplot as plt"
   ]
  },
  {
   "cell_type": "code",
   "execution_count": 38,
   "metadata": {
    "execution": {
     "iopub.execute_input": "2025-10-08T07:50:09.166508Z",
     "iopub.status.busy": "2025-10-08T07:50:09.166138Z",
     "iopub.status.idle": "2025-10-08T07:50:36.763266Z",
     "shell.execute_reply": "2025-10-08T07:50:36.762189Z",
     "shell.execute_reply.started": "2025-10-08T07:50:09.166484Z"
    },
    "trusted": true
   },
   "outputs": [],
   "source": [
    "df_train = pd.read_csv(\"/kaggle/input/amazon-reviews/train.csv\" , header=None)\n",
    "df_test = pd.read_csv('/kaggle/input/amazon-reviews/test.csv' , header = None)"
   ]
  },
  {
   "cell_type": "code",
   "execution_count": 39,
   "metadata": {
    "execution": {
     "iopub.execute_input": "2025-10-08T07:50:57.522911Z",
     "iopub.status.busy": "2025-10-08T07:50:57.522376Z",
     "iopub.status.idle": "2025-10-08T07:50:57.530580Z",
     "shell.execute_reply": "2025-10-08T07:50:57.529000Z",
     "shell.execute_reply.started": "2025-10-08T07:50:57.522877Z"
    },
    "trusted": true
   },
   "outputs": [],
   "source": [
    "df_train.columns = ['polarity', 'title', 'text']\n",
    "df_test.columns = ['polarity', 'title', 'text']"
   ]
  },
  {
   "cell_type": "code",
   "execution_count": 40,
   "metadata": {
    "execution": {
     "iopub.execute_input": "2025-10-08T07:50:58.651376Z",
     "iopub.status.busy": "2025-10-08T07:50:58.650255Z",
     "iopub.status.idle": "2025-10-08T07:50:58.663394Z",
     "shell.execute_reply": "2025-10-08T07:50:58.662035Z",
     "shell.execute_reply.started": "2025-10-08T07:50:58.651343Z"
    },
    "trusted": true
   },
   "outputs": [
    {
     "name": "stdout",
     "output_type": "stream",
     "text": [
      "<class 'pandas.core.frame.DataFrame'>\n",
      "RangeIndex: 3600000 entries, 0 to 3599999\n",
      "Data columns (total 3 columns):\n",
      " #   Column    Dtype \n",
      "---  ------    ----- \n",
      " 0   polarity  int64 \n",
      " 1   title     object\n",
      " 2   text      object\n",
      "dtypes: int64(1), object(2)\n",
      "memory usage: 82.4+ MB\n"
     ]
    }
   ],
   "source": [
    "df_train.info()"
   ]
  },
  {
   "cell_type": "code",
   "execution_count": 41,
   "metadata": {
    "execution": {
     "iopub.execute_input": "2025-10-08T07:50:59.550397Z",
     "iopub.status.busy": "2025-10-08T07:50:59.550058Z",
     "iopub.status.idle": "2025-10-08T07:50:59.562614Z",
     "shell.execute_reply": "2025-10-08T07:50:59.561402Z",
     "shell.execute_reply.started": "2025-10-08T07:50:59.550375Z"
    },
    "trusted": true
   },
   "outputs": [
    {
     "data": {
      "text/html": [
       "<div>\n",
       "<style scoped>\n",
       "    .dataframe tbody tr th:only-of-type {\n",
       "        vertical-align: middle;\n",
       "    }\n",
       "\n",
       "    .dataframe tbody tr th {\n",
       "        vertical-align: top;\n",
       "    }\n",
       "\n",
       "    .dataframe thead th {\n",
       "        text-align: right;\n",
       "    }\n",
       "</style>\n",
       "<table border=\"1\" class=\"dataframe\">\n",
       "  <thead>\n",
       "    <tr style=\"text-align: right;\">\n",
       "      <th></th>\n",
       "      <th>polarity</th>\n",
       "      <th>title</th>\n",
       "      <th>text</th>\n",
       "    </tr>\n",
       "  </thead>\n",
       "  <tbody>\n",
       "    <tr>\n",
       "      <th>0</th>\n",
       "      <td>2</td>\n",
       "      <td>Stuning even for the non-gamer</td>\n",
       "      <td>This sound track was beautiful! It paints the ...</td>\n",
       "    </tr>\n",
       "    <tr>\n",
       "      <th>1</th>\n",
       "      <td>2</td>\n",
       "      <td>The best soundtrack ever to anything.</td>\n",
       "      <td>I'm reading a lot of reviews saying that this ...</td>\n",
       "    </tr>\n",
       "    <tr>\n",
       "      <th>2</th>\n",
       "      <td>2</td>\n",
       "      <td>Amazing!</td>\n",
       "      <td>This soundtrack is my favorite music of all ti...</td>\n",
       "    </tr>\n",
       "    <tr>\n",
       "      <th>3</th>\n",
       "      <td>2</td>\n",
       "      <td>Excellent Soundtrack</td>\n",
       "      <td>I truly like this soundtrack and I enjoy video...</td>\n",
       "    </tr>\n",
       "    <tr>\n",
       "      <th>4</th>\n",
       "      <td>2</td>\n",
       "      <td>Remember, Pull Your Jaw Off The Floor After He...</td>\n",
       "      <td>If you've played the game, you know how divine...</td>\n",
       "    </tr>\n",
       "  </tbody>\n",
       "</table>\n",
       "</div>"
      ],
      "text/plain": [
       "   polarity                                              title  \\\n",
       "0         2                     Stuning even for the non-gamer   \n",
       "1         2              The best soundtrack ever to anything.   \n",
       "2         2                                           Amazing!   \n",
       "3         2                               Excellent Soundtrack   \n",
       "4         2  Remember, Pull Your Jaw Off The Floor After He...   \n",
       "\n",
       "                                                text  \n",
       "0  This sound track was beautiful! It paints the ...  \n",
       "1  I'm reading a lot of reviews saying that this ...  \n",
       "2  This soundtrack is my favorite music of all ti...  \n",
       "3  I truly like this soundtrack and I enjoy video...  \n",
       "4  If you've played the game, you know how divine...  "
      ]
     },
     "execution_count": 41,
     "metadata": {},
     "output_type": "execute_result"
    }
   ],
   "source": [
    "df_train.head()"
   ]
  },
  {
   "cell_type": "code",
   "execution_count": 42,
   "metadata": {
    "execution": {
     "iopub.execute_input": "2025-10-08T07:51:02.830374Z",
     "iopub.status.busy": "2025-10-08T07:51:02.829980Z",
     "iopub.status.idle": "2025-10-08T07:51:02.862542Z",
     "shell.execute_reply": "2025-10-08T07:51:02.861486Z",
     "shell.execute_reply.started": "2025-10-08T07:51:02.830349Z"
    },
    "trusted": true
   },
   "outputs": [
    {
     "data": {
      "text/plain": [
       "array([2, 1])"
      ]
     },
     "execution_count": 42,
     "metadata": {},
     "output_type": "execute_result"
    }
   ],
   "source": [
    "# polarity column description\n",
    "# 1 == Negative\n",
    "# 2 == Positive\n",
    "df_train['polarity'].unique()"
   ]
  },
  {
   "cell_type": "code",
   "execution_count": 43,
   "metadata": {
    "execution": {
     "iopub.execute_input": "2025-10-08T08:01:38.202502Z",
     "iopub.status.busy": "2025-10-08T08:01:38.202083Z",
     "iopub.status.idle": "2025-10-08T08:01:38.234278Z",
     "shell.execute_reply": "2025-10-08T08:01:38.233096Z",
     "shell.execute_reply.started": "2025-10-08T08:01:38.202466Z"
    },
    "trusted": true
   },
   "outputs": [
    {
     "data": {
      "text/plain": [
       "polarity\n",
       "2    1800000\n",
       "1    1800000\n",
       "Name: count, dtype: int64"
      ]
     },
     "execution_count": 43,
     "metadata": {},
     "output_type": "execute_result"
    }
   ],
   "source": [
    "df_train['polarity'].value_counts()"
   ]
  },
  {
   "cell_type": "code",
   "execution_count": 44,
   "metadata": {
    "execution": {
     "iopub.execute_input": "2025-10-08T07:51:03.901189Z",
     "iopub.status.busy": "2025-10-08T07:51:03.900818Z",
     "iopub.status.idle": "2025-10-08T07:51:05.655304Z",
     "shell.execute_reply": "2025-10-08T07:51:05.654151Z",
     "shell.execute_reply.started": "2025-10-08T07:51:03.901162Z"
    },
    "trusted": true
   },
   "outputs": [],
   "source": [
    "# LOWER CASE THE DATA OF COLUMN 'title'\n",
    "\n",
    "df_train['title'] = df_train['title'].str.lower()"
   ]
  },
  {
   "cell_type": "code",
   "execution_count": 45,
   "metadata": {
    "execution": {
     "iopub.execute_input": "2025-10-08T07:51:08.041213Z",
     "iopub.status.busy": "2025-10-08T07:51:08.040841Z",
     "iopub.status.idle": "2025-10-08T07:51:13.506976Z",
     "shell.execute_reply": "2025-10-08T07:51:13.506018Z",
     "shell.execute_reply.started": "2025-10-08T07:51:08.041185Z"
    },
    "trusted": true
   },
   "outputs": [],
   "source": [
    "# LOWER CASE THE DATA OF COLUMN 'text'\n",
    "\n",
    "df_train['text'] = df_train['text'].str.lower()"
   ]
  },
  {
   "cell_type": "code",
   "execution_count": 46,
   "metadata": {
    "execution": {
     "iopub.execute_input": "2025-10-08T07:51:54.871208Z",
     "iopub.status.busy": "2025-10-08T07:51:54.870827Z",
     "iopub.status.idle": "2025-10-08T07:51:55.180535Z",
     "shell.execute_reply": "2025-10-08T07:51:55.178979Z",
     "shell.execute_reply.started": "2025-10-08T07:51:54.871173Z"
    },
    "trusted": true
   },
   "outputs": [
    {
     "data": {
      "text/plain": [
       "247688     ***** junk!! do not waste your money on this o...\n",
       "1461988                                              perfect\n",
       "1945871                                          bad machine\n",
       "611514                                  wyatt earp's revenge\n",
       "2658457                forcing myself to finish this one....\n",
       "3270026                  too much talking, not enough action\n",
       "661831                                  outstanding voice...\n",
       "474590                                           a good yarn\n",
       "758248                paranomal activity versus the moon men\n",
       "13131                                         very enjoyable\n",
       "Name: title, dtype: object"
      ]
     },
     "execution_count": 46,
     "metadata": {},
     "output_type": "execute_result"
    }
   ],
   "source": [
    "df_train['title'].sample(10)"
   ]
  },
  {
   "cell_type": "code",
   "execution_count": 47,
   "metadata": {
    "execution": {
     "iopub.execute_input": "2025-10-08T08:03:36.690324Z",
     "iopub.status.busy": "2025-10-08T08:03:36.689274Z",
     "iopub.status.idle": "2025-10-08T08:03:36.696277Z",
     "shell.execute_reply": "2025-10-08T08:03:36.695135Z",
     "shell.execute_reply.started": "2025-10-08T08:03:36.690276Z"
    },
    "trusted": true
   },
   "outputs": [
    {
     "name": "stdout",
     "output_type": "stream",
     "text": [
      "shape of df_train:  (3600000, 3)\n",
      "shape of df_test:  (400000, 3)\n"
     ]
    }
   ],
   "source": [
    "print(\"shape of df_train: \",df_train.shape)\n",
    "print(\"shape of df_test: \",df_test.shape)"
   ]
  },
  {
   "cell_type": "code",
   "execution_count": 48,
   "metadata": {
    "execution": {
     "iopub.execute_input": "2025-10-08T08:34:39.064735Z",
     "iopub.status.busy": "2025-10-08T08:34:39.064173Z",
     "iopub.status.idle": "2025-10-08T08:34:40.143380Z",
     "shell.execute_reply": "2025-10-08T08:34:40.142460Z",
     "shell.execute_reply.started": "2025-10-08T08:34:39.064701Z"
    },
    "trusted": true
   },
   "outputs": [
    {
     "data": {
      "text/plain": [
       "polarity      0\n",
       "title       207\n",
       "text          0\n",
       "dtype: int64"
      ]
     },
     "execution_count": 48,
     "metadata": {},
     "output_type": "execute_result"
    }
   ],
   "source": [
    "# nan values in df_train\n",
    "df_train.isna().sum()"
   ]
  },
  {
   "cell_type": "code",
   "execution_count": 49,
   "metadata": {
    "execution": {
     "iopub.execute_input": "2025-10-08T08:35:59.381194Z",
     "iopub.status.busy": "2025-10-08T08:35:59.380855Z",
     "iopub.status.idle": "2025-10-08T08:35:59.887402Z",
     "shell.execute_reply": "2025-10-08T08:35:59.886246Z",
     "shell.execute_reply.started": "2025-10-08T08:35:59.381170Z"
    },
    "trusted": true
   },
   "outputs": [
    {
     "data": {
      "text/plain": [
       "polarity     0\n",
       "title       24\n",
       "text         0\n",
       "dtype: int64"
      ]
     },
     "execution_count": 49,
     "metadata": {},
     "output_type": "execute_result"
    }
   ],
   "source": [
    "#  nan values in df_test\n",
    "df_test.isna().sum()"
   ]
  },
  {
   "cell_type": "code",
   "execution_count": 50,
   "metadata": {
    "execution": {
     "iopub.execute_input": "2025-10-08T08:36:49.200865Z",
     "iopub.status.busy": "2025-10-08T08:36:49.200485Z",
     "iopub.status.idle": "2025-10-08T08:36:50.519013Z",
     "shell.execute_reply": "2025-10-08T08:36:50.517860Z",
     "shell.execute_reply.started": "2025-10-08T08:36:49.200838Z"
    },
    "trusted": true
   },
   "outputs": [],
   "source": [
    "# drop nan values \n",
    "df_train = df_train.dropna()\n",
    "df_test = df_test.dropna()"
   ]
  },
  {
   "cell_type": "code",
   "execution_count": null,
   "metadata": {},
   "outputs": [],
   "source": [
    "#  droping title as i think it is not needed for now \n",
    "\n",
    "df_train = df_train.drop(['title'], axis=1)\n",
    "df_test = df_test.drop(['title'], axis=1)"
   ]
  },
  {
   "cell_type": "code",
   "execution_count": 52,
   "metadata": {
    "execution": {
     "iopub.execute_input": "2025-10-08T08:47:33.410480Z",
     "iopub.status.busy": "2025-10-08T08:47:33.410094Z",
     "iopub.status.idle": "2025-10-08T08:47:33.416223Z",
     "shell.execute_reply": "2025-10-08T08:47:33.414921Z",
     "shell.execute_reply.started": "2025-10-08T08:47:33.410427Z"
    },
    "trusted": true
   },
   "outputs": [],
   "source": [
    "import string \n",
    "translator = str.maketrans('','',string.punctuation)\n",
    "digit = str.maketrans('','',string.digits)"
   ]
  },
  {
   "cell_type": "code",
   "execution_count": 53,
   "metadata": {
    "execution": {
     "iopub.execute_input": "2025-10-08T08:37:23.851408Z",
     "iopub.status.busy": "2025-10-08T08:37:23.851096Z",
     "iopub.status.idle": "2025-10-08T08:37:30.904304Z",
     "shell.execute_reply": "2025-10-08T08:37:30.903242Z",
     "shell.execute_reply.started": "2025-10-08T08:37:23.851385Z"
    },
    "trusted": true
   },
   "outputs": [],
   "source": [
    "# removing punctuations from title\n",
    "# df_train['title'] = df_train['title'].apply(lambda x: x.translate(translator))"
   ]
  },
  {
   "cell_type": "code",
   "execution_count": null,
   "metadata": {
    "execution": {
     "iopub.execute_input": "2025-10-08T08:38:19.392084Z",
     "iopub.status.busy": "2025-10-08T08:38:19.391036Z",
     "iopub.status.idle": "2025-10-08T08:38:41.929188Z",
     "shell.execute_reply": "2025-10-08T08:38:41.928237Z",
     "shell.execute_reply.started": "2025-10-08T08:38:19.391997Z"
    },
    "trusted": true
   },
   "outputs": [],
   "source": [
    "# removing punctuations from text\n",
    "df_train['text'] = df_train['text'].apply(lambda x: x.translate(translator))"
   ]
  },
  {
   "cell_type": "code",
   "execution_count": 99,
   "metadata": {},
   "outputs": [],
   "source": [
    "# removing punctuations from text\n",
    "df_test['text'] = df_test['text'].apply(lambda x: x.translate(translator))"
   ]
  },
  {
   "cell_type": "code",
   "execution_count": 55,
   "metadata": {
    "execution": {
     "iopub.execute_input": "2025-10-08T09:14:22.309065Z",
     "iopub.status.busy": "2025-10-08T09:14:22.308696Z",
     "iopub.status.idle": "2025-10-08T09:14:22.581071Z",
     "shell.execute_reply": "2025-10-08T09:14:22.580069Z",
     "shell.execute_reply.started": "2025-10-08T09:14:22.309037Z"
    },
    "trusted": true
   },
   "outputs": [
    {
     "data": {
      "text/html": [
       "<div>\n",
       "<style scoped>\n",
       "    .dataframe tbody tr th:only-of-type {\n",
       "        vertical-align: middle;\n",
       "    }\n",
       "\n",
       "    .dataframe tbody tr th {\n",
       "        vertical-align: top;\n",
       "    }\n",
       "\n",
       "    .dataframe thead th {\n",
       "        text-align: right;\n",
       "    }\n",
       "</style>\n",
       "<table border=\"1\" class=\"dataframe\">\n",
       "  <thead>\n",
       "    <tr style=\"text-align: right;\">\n",
       "      <th></th>\n",
       "      <th>polarity</th>\n",
       "      <th>text</th>\n",
       "    </tr>\n",
       "  </thead>\n",
       "  <tbody>\n",
       "    <tr>\n",
       "      <th>1060301</th>\n",
       "      <td>1</td>\n",
       "      <td>setting aside a gaping hole or two in the plot...</td>\n",
       "    </tr>\n",
       "    <tr>\n",
       "      <th>212035</th>\n",
       "      <td>1</td>\n",
       "      <td>i originally saw this movie on showtime and lo...</td>\n",
       "    </tr>\n",
       "    <tr>\n",
       "      <th>2102725</th>\n",
       "      <td>1</td>\n",
       "      <td>my friend had told me how this movie was so go...</td>\n",
       "    </tr>\n",
       "    <tr>\n",
       "      <th>883235</th>\n",
       "      <td>2</td>\n",
       "      <td>if you are a fan of the original thx 1138 i th...</td>\n",
       "    </tr>\n",
       "    <tr>\n",
       "      <th>1454751</th>\n",
       "      <td>1</td>\n",
       "      <td>this would be a cute novelty item that is neve...</td>\n",
       "    </tr>\n",
       "    <tr>\n",
       "      <th>2909118</th>\n",
       "      <td>1</td>\n",
       "      <td>i really wish i would have looked more closely...</td>\n",
       "    </tr>\n",
       "    <tr>\n",
       "      <th>979412</th>\n",
       "      <td>2</td>\n",
       "      <td>i am a beginner and this book has been my bibl...</td>\n",
       "    </tr>\n",
       "    <tr>\n",
       "      <th>802554</th>\n",
       "      <td>1</td>\n",
       "      <td>leonards greatest strength has always been his...</td>\n",
       "    </tr>\n",
       "    <tr>\n",
       "      <th>423295</th>\n",
       "      <td>2</td>\n",
       "      <td>i have a license plate cover so when i mounted...</td>\n",
       "    </tr>\n",
       "    <tr>\n",
       "      <th>283218</th>\n",
       "      <td>2</td>\n",
       "      <td>an interesting if long read about a fascinatin...</td>\n",
       "    </tr>\n",
       "  </tbody>\n",
       "</table>\n",
       "</div>"
      ],
      "text/plain": [
       "         polarity                                               text\n",
       "1060301         1  setting aside a gaping hole or two in the plot...\n",
       "212035          1  i originally saw this movie on showtime and lo...\n",
       "2102725         1  my friend had told me how this movie was so go...\n",
       "883235          2  if you are a fan of the original thx 1138 i th...\n",
       "1454751         1  this would be a cute novelty item that is neve...\n",
       "2909118         1  i really wish i would have looked more closely...\n",
       "979412          2  i am a beginner and this book has been my bibl...\n",
       "802554          1  leonards greatest strength has always been his...\n",
       "423295          2  i have a license plate cover so when i mounted...\n",
       "283218          2  an interesting if long read about a fascinatin..."
      ]
     },
     "execution_count": 55,
     "metadata": {},
     "output_type": "execute_result"
    }
   ],
   "source": [
    "df_train.sample(10)"
   ]
  },
  {
   "cell_type": "code",
   "execution_count": 56,
   "metadata": {
    "execution": {
     "iopub.execute_input": "2025-10-08T08:48:21.681487Z",
     "iopub.status.busy": "2025-10-08T08:48:21.681091Z",
     "iopub.status.idle": "2025-10-08T08:48:27.526731Z",
     "shell.execute_reply": "2025-10-08T08:48:27.525694Z",
     "shell.execute_reply.started": "2025-10-08T08:48:21.681460Z"
    },
    "trusted": true
   },
   "outputs": [],
   "source": [
    "# removing the numbers from the \"title\" \n",
    "# df_train['title'] = df_train['title'].apply(lambda x: x.translate(digit))"
   ]
  },
  {
   "cell_type": "code",
   "execution_count": null,
   "metadata": {
    "execution": {
     "iopub.execute_input": "2025-10-08T08:49:12.650245Z",
     "iopub.status.busy": "2025-10-08T08:49:12.649839Z",
     "iopub.status.idle": "2025-10-08T08:49:26.676729Z",
     "shell.execute_reply": "2025-10-08T08:49:26.675800Z",
     "shell.execute_reply.started": "2025-10-08T08:49:12.650217Z"
    },
    "trusted": true
   },
   "outputs": [],
   "source": [
    "# removing the numbers from the \"text\"\n",
    "df_train['text'] = df_train['text'].apply(lambda x: x.translate(digit))"
   ]
  },
  {
   "cell_type": "code",
   "execution_count": 100,
   "metadata": {},
   "outputs": [],
   "source": [
    "# removing the numbers from the \"text\"\n",
    "df_test['text'] = df_test['text'].apply(lambda x: x.translate(digit))"
   ]
  },
  {
   "cell_type": "code",
   "execution_count": 58,
   "metadata": {},
   "outputs": [
    {
     "data": {
      "text/html": [
       "<div>\n",
       "<style scoped>\n",
       "    .dataframe tbody tr th:only-of-type {\n",
       "        vertical-align: middle;\n",
       "    }\n",
       "\n",
       "    .dataframe tbody tr th {\n",
       "        vertical-align: top;\n",
       "    }\n",
       "\n",
       "    .dataframe thead th {\n",
       "        text-align: right;\n",
       "    }\n",
       "</style>\n",
       "<table border=\"1\" class=\"dataframe\">\n",
       "  <thead>\n",
       "    <tr style=\"text-align: right;\">\n",
       "      <th></th>\n",
       "      <th>polarity</th>\n",
       "      <th>text</th>\n",
       "    </tr>\n",
       "  </thead>\n",
       "  <tbody>\n",
       "    <tr>\n",
       "      <th>2861833</th>\n",
       "      <td>2</td>\n",
       "      <td>hi this shark is awsome it includes  drones th...</td>\n",
       "    </tr>\n",
       "    <tr>\n",
       "      <th>1868246</th>\n",
       "      <td>1</td>\n",
       "      <td>this is very poorly made i wanted to get one f...</td>\n",
       "    </tr>\n",
       "    <tr>\n",
       "      <th>660654</th>\n",
       "      <td>1</td>\n",
       "      <td>this dvd was sent and the audio worked fine bu...</td>\n",
       "    </tr>\n",
       "    <tr>\n",
       "      <th>43452</th>\n",
       "      <td>1</td>\n",
       "      <td>i ordered the softgel form of this pill becaus...</td>\n",
       "    </tr>\n",
       "    <tr>\n",
       "      <th>2353169</th>\n",
       "      <td>1</td>\n",
       "      <td>ive gone through several other beard trimmers ...</td>\n",
       "    </tr>\n",
       "    <tr>\n",
       "      <th>129274</th>\n",
       "      <td>1</td>\n",
       "      <td>i bought this toy for my daughter and it did n...</td>\n",
       "    </tr>\n",
       "    <tr>\n",
       "      <th>376525</th>\n",
       "      <td>1</td>\n",
       "      <td>i purchased this because i am an exercise begi...</td>\n",
       "    </tr>\n",
       "    <tr>\n",
       "      <th>2838943</th>\n",
       "      <td>2</td>\n",
       "      <td>my little girl loves this movie she would watc...</td>\n",
       "    </tr>\n",
       "    <tr>\n",
       "      <th>2434874</th>\n",
       "      <td>2</td>\n",
       "      <td>a remarkable clear and concise description of ...</td>\n",
       "    </tr>\n",
       "    <tr>\n",
       "      <th>2580648</th>\n",
       "      <td>2</td>\n",
       "      <td>i am a huge firm fan and workout for  minutes ...</td>\n",
       "    </tr>\n",
       "  </tbody>\n",
       "</table>\n",
       "</div>"
      ],
      "text/plain": [
       "         polarity                                               text\n",
       "2861833         2  hi this shark is awsome it includes  drones th...\n",
       "1868246         1  this is very poorly made i wanted to get one f...\n",
       "660654          1  this dvd was sent and the audio worked fine bu...\n",
       "43452           1  i ordered the softgel form of this pill becaus...\n",
       "2353169         1  ive gone through several other beard trimmers ...\n",
       "129274          1  i bought this toy for my daughter and it did n...\n",
       "376525          1  i purchased this because i am an exercise begi...\n",
       "2838943         2  my little girl loves this movie she would watc...\n",
       "2434874         2  a remarkable clear and concise description of ...\n",
       "2580648         2  i am a huge firm fan and workout for  minutes ..."
      ]
     },
     "execution_count": 58,
     "metadata": {},
     "output_type": "execute_result"
    }
   ],
   "source": [
    "df_train.sample(10)"
   ]
  },
  {
   "cell_type": "code",
   "execution_count": null,
   "metadata": {
    "execution": {
     "iopub.execute_input": "2025-10-08T09:13:32.963977Z",
     "iopub.status.busy": "2025-10-08T09:13:32.963617Z",
     "iopub.status.idle": "2025-10-08T09:13:35.556209Z",
     "shell.execute_reply": "2025-10-08T09:13:35.555191Z",
     "shell.execute_reply.started": "2025-10-08T09:13:32.963952Z"
    },
    "trusted": true
   },
   "outputs": [],
   "source": [
    "# removing extra spaces just in case \n",
    "# df_train['title'] = df_train['title'].str.strip()\n",
    "df_train['text'] = df_train['text'].str.strip()\n"
   ]
  },
  {
   "cell_type": "code",
   "execution_count": 101,
   "metadata": {},
   "outputs": [],
   "source": [
    "\n",
    "df_test['text'] = df_test['text'].str.strip()"
   ]
  },
  {
   "cell_type": "code",
   "execution_count": 60,
   "metadata": {},
   "outputs": [],
   "source": [
    "import nltk\n",
    "from nltk.stem import PorterStemmer\n",
    "from nltk.tokenize import word_tokenize\n",
    "from nltk.corpus import stopwords  \n"
   ]
  },
  {
   "cell_type": "code",
   "execution_count": 61,
   "metadata": {},
   "outputs": [],
   "source": [
    "stopword = set(stopwords.words('english'))\n",
    "stemmer = PorterStemmer()"
   ]
  },
  {
   "cell_type": "code",
   "execution_count": 64,
   "metadata": {},
   "outputs": [],
   "source": [
    "from tqdm import tqdm\n",
    "tqdm.pandas()"
   ]
  },
  {
   "cell_type": "code",
   "execution_count": 65,
   "metadata": {},
   "outputs": [
    {
     "name": "stderr",
     "output_type": "stream",
     "text": [
      "100%|██████████| 3599793/3599793 [55:17<00:00, 1085.24it/s]\n"
     ]
    }
   ],
   "source": [
    "# removing stop words and also applying the tokenizations\n",
    "\n",
    "def tokenization_and_stopwords_removal(text):\n",
    "    tokenized_text = word_tokenize(text)\n",
    "    texts = [word for word in tokenized_text if word.lower() not in stopword ]\n",
    "    stemmed_text = [stemmer.stem(word) for word in texts]\n",
    "    \n",
    "\n",
    "    return \" \".join(stemmed_text)\n",
    "\n",
    "df_train['text'] = df_train['text'].progress_apply(tokenization_and_stopwords_removal)"
   ]
  },
  {
   "cell_type": "code",
   "execution_count": 102,
   "metadata": {},
   "outputs": [
    {
     "name": "stderr",
     "output_type": "stream",
     "text": [
      "100%|██████████| 399976/399976 [06:07<00:00, 1088.19it/s]\n"
     ]
    }
   ],
   "source": [
    "df_test['text'] = df_test['text'].progress_apply(tokenization_and_stopwords_removal)"
   ]
  },
  {
   "cell_type": "code",
   "execution_count": 66,
   "metadata": {},
   "outputs": [],
   "source": [
    "# length of the text (new feature)\n",
    "\n",
    "def len_of_text(text):\n",
    "    return len(text)\n",
    "\n",
    "df_train['text length'] = df_train['text'].apply(len_of_text)"
   ]
  },
  {
   "cell_type": "code",
   "execution_count": 103,
   "metadata": {},
   "outputs": [],
   "source": [
    "df_test['text length'] = df_test['text'].apply(len_of_text)"
   ]
  },
  {
   "cell_type": "code",
   "execution_count": 74,
   "metadata": {},
   "outputs": [
    {
     "data": {
      "text/html": [
       "<div>\n",
       "<style scoped>\n",
       "    .dataframe tbody tr th:only-of-type {\n",
       "        vertical-align: middle;\n",
       "    }\n",
       "\n",
       "    .dataframe tbody tr th {\n",
       "        vertical-align: top;\n",
       "    }\n",
       "\n",
       "    .dataframe thead th {\n",
       "        text-align: right;\n",
       "    }\n",
       "</style>\n",
       "<table border=\"1\" class=\"dataframe\">\n",
       "  <thead>\n",
       "    <tr style=\"text-align: right;\">\n",
       "      <th></th>\n",
       "      <th>polarity</th>\n",
       "      <th>text</th>\n",
       "      <th>text length</th>\n",
       "    </tr>\n",
       "  </thead>\n",
       "  <tbody>\n",
       "    <tr>\n",
       "      <th>574111</th>\n",
       "      <td>2</td>\n",
       "      <td>bought book daughter bulli school thought woul...</td>\n",
       "      <td>449</td>\n",
       "    </tr>\n",
       "    <tr>\n",
       "      <th>2055890</th>\n",
       "      <td>1</td>\n",
       "      <td>excit thoughtprovok lifechang everyth radiohea...</td>\n",
       "      <td>507</td>\n",
       "    </tr>\n",
       "    <tr>\n",
       "      <th>90372</th>\n",
       "      <td>1</td>\n",
       "      <td>pdf copi book friend got end thought miss last...</td>\n",
       "      <td>265</td>\n",
       "    </tr>\n",
       "    <tr>\n",
       "      <th>3566544</th>\n",
       "      <td>1</td>\n",
       "      <td>hand worst coffe maker ever own conveni caraf ...</td>\n",
       "      <td>396</td>\n",
       "    </tr>\n",
       "    <tr>\n",
       "      <th>787605</th>\n",
       "      <td>2</td>\n",
       "      <td>copi book librari long interest occult asid cl...</td>\n",
       "      <td>491</td>\n",
       "    </tr>\n",
       "    <tr>\n",
       "      <th>3409375</th>\n",
       "      <td>2</td>\n",
       "      <td>pretti good sound consid fascin solo work gem ...</td>\n",
       "      <td>124</td>\n",
       "    </tr>\n",
       "    <tr>\n",
       "      <th>1871635</th>\n",
       "      <td>2</td>\n",
       "      <td>great</td>\n",
       "      <td>5</td>\n",
       "    </tr>\n",
       "    <tr>\n",
       "      <th>3099981</th>\n",
       "      <td>2</td>\n",
       "      <td>final book sit read child help understand ill ...</td>\n",
       "      <td>238</td>\n",
       "    </tr>\n",
       "    <tr>\n",
       "      <th>2939304</th>\n",
       "      <td>2</td>\n",
       "      <td>walt kelli pogo noth short extrodinari perfect...</td>\n",
       "      <td>400</td>\n",
       "    </tr>\n",
       "    <tr>\n",
       "      <th>60848</th>\n",
       "      <td>2</td>\n",
       "      <td>best thing movi tri convey must like aboard th...</td>\n",
       "      <td>315</td>\n",
       "    </tr>\n",
       "  </tbody>\n",
       "</table>\n",
       "</div>"
      ],
      "text/plain": [
       "         polarity                                               text  \\\n",
       "574111          2  bought book daughter bulli school thought woul...   \n",
       "2055890         1  excit thoughtprovok lifechang everyth radiohea...   \n",
       "90372           1  pdf copi book friend got end thought miss last...   \n",
       "3566544         1  hand worst coffe maker ever own conveni caraf ...   \n",
       "787605          2  copi book librari long interest occult asid cl...   \n",
       "3409375         2  pretti good sound consid fascin solo work gem ...   \n",
       "1871635         2                                              great   \n",
       "3099981         2  final book sit read child help understand ill ...   \n",
       "2939304         2  walt kelli pogo noth short extrodinari perfect...   \n",
       "60848           2  best thing movi tri convey must like aboard th...   \n",
       "\n",
       "         text length  \n",
       "574111           449  \n",
       "2055890          507  \n",
       "90372            265  \n",
       "3566544          396  \n",
       "787605           491  \n",
       "3409375          124  \n",
       "1871635            5  \n",
       "3099981          238  \n",
       "2939304          400  \n",
       "60848            315  "
      ]
     },
     "execution_count": 74,
     "metadata": {},
     "output_type": "execute_result"
    }
   ],
   "source": [
    "\n",
    "df_train.sample(10)"
   ]
  },
  {
   "cell_type": "code",
   "execution_count": 78,
   "metadata": {},
   "outputs": [],
   "source": [
    "from sklearn.feature_extraction.text import CountVectorizer\n",
    "vectorize = CountVectorizer(max_features=5000)\n",
    "X = vectorize.fit_transform(df_train['text'])"
   ]
  },
  {
   "cell_type": "code",
   "execution_count": 79,
   "metadata": {},
   "outputs": [],
   "source": [
    "from sklearn.feature_extraction.text import TfidfVectorizer\n",
    "vectorizer_tfid = TfidfVectorizer(max_features=5000, ngram_range=(1,2))\n",
    "X_tfid = vectorizer_tfid.fit_transform(df_train['text'])"
   ]
  },
  {
   "cell_type": "code",
   "execution_count": 85,
   "metadata": {},
   "outputs": [
    {
     "name": "stdout",
     "output_type": "stream",
     "text": [
      "df_train['polarity]  polarity\n",
      "1    1799913\n",
      "0    1799880\n",
      "Name: count, dtype: int64\n",
      "\n",
      "df_test['polarity]  polarity\n",
      "2    199992\n",
      "1    199984\n",
      "Name: count, dtype: int64\n"
     ]
    }
   ],
   "source": [
    "print(\"df_train['polarity] \",  df_train['polarity'].value_counts())\n",
    "print(\"\")\n",
    "print(\"df_test['polarity] \",  df_test['polarity'].value_counts())\n"
   ]
  },
  {
   "cell_type": "code",
   "execution_count": 96,
   "metadata": {},
   "outputs": [
    {
     "name": "stdout",
     "output_type": "stream",
     "text": [
      "df_test is null or not\n",
      "\n",
      " polarity    0\n",
      "title       0\n",
      "text        0\n",
      "dtype: int64\n",
      "\n",
      "df_train is null or not\n",
      "\n",
      " polarity       0\n",
      "text           0\n",
      "text length    0\n",
      "dtype: int64\n"
     ]
    }
   ],
   "source": [
    "print(f\"df_test is null or not\\n\\n {df_test.isnull().sum()}\")\n",
    "print('')\n",
    "print(f\"df_train is null or not\\n\\n {df_train.isnull().sum()}\")"
   ]
  },
  {
   "cell_type": "code",
   "execution_count": null,
   "metadata": {},
   "outputs": [],
   "source": [
    "# now negative = 0, positive = 1 for simplicity\n",
    "\n",
    "df_train['polarity'] = df_train['polarity'].map({2:1, 1:0})\n",
    "df_test['polarity'] = df_test['polarity'].map({2:1,1:0})"
   ]
  },
  {
   "cell_type": "code",
   "execution_count": 104,
   "metadata": {},
   "outputs": [],
   "source": [
    "df_train.to_csv('train.csv', index=False)\n",
    "df_test.to_csv('test.csv', index=False)"
   ]
  }
 ],
 "metadata": {
  "kaggle": {
   "accelerator": "none",
   "dataSources": [
    {
     "datasetId": 1340369,
     "sourceId": 2233682,
     "sourceType": "datasetVersion"
    }
   ],
   "dockerImageVersionId": 31153,
   "isGpuEnabled": false,
   "isInternetEnabled": true,
   "language": "python",
   "sourceType": "notebook"
  },
  "kernelspec": {
   "display_name": "Python 3 (ipykernel)",
   "language": "python",
   "name": "python3"
  },
  "language_info": {
   "codemirror_mode": {
    "name": "ipython",
    "version": 3
   },
   "file_extension": ".py",
   "mimetype": "text/x-python",
   "name": "python",
   "nbconvert_exporter": "python",
   "pygments_lexer": "ipython3",
   "version": "3.11.13"
  }
 },
 "nbformat": 4,
 "nbformat_minor": 4
}
