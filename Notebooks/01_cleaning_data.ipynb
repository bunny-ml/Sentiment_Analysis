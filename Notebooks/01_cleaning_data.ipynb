{
 "cells": [
  {
   "cell_type": "code",
   "execution_count": 36,
   "metadata": {
    "_cell_guid": "b1076dfc-b9ad-4769-8c92-a6c4dae69d19",
    "_uuid": "8f2839f25d086af736a60e9eeb907d3b93b6e0e5",
    "execution": {
     "iopub.execute_input": "2025-10-08T07:34:33.830408Z",
     "iopub.status.busy": "2025-10-08T07:34:33.830065Z",
     "iopub.status.idle": "2025-10-08T07:34:35.270021Z",
     "shell.execute_reply": "2025-10-08T07:34:35.268951Z",
     "shell.execute_reply.started": "2025-10-08T07:34:33.830382Z"
    },
    "trusted": true
   },
   "outputs": [],
   "source": [
    "import pandas as pd\n",
    "import numpy as np\n",
    "import seaborn as sns\n",
    "import matplotlib.pyplot as plt"
   ]
  },
  {
   "cell_type": "code",
   "execution_count": 37,
   "metadata": {
    "execution": {
     "iopub.execute_input": "2025-10-08T07:50:09.166508Z",
     "iopub.status.busy": "2025-10-08T07:50:09.166138Z",
     "iopub.status.idle": "2025-10-08T07:50:36.763266Z",
     "shell.execute_reply": "2025-10-08T07:50:36.762189Z",
     "shell.execute_reply.started": "2025-10-08T07:50:09.166484Z"
    },
    "trusted": true
   },
   "outputs": [],
   "source": [
    "df_train = pd.read_csv(\"/kaggle/input/amazon-reviews/train.csv\" , header=None)\n",
    "df_test = pd.read_csv('/kaggle/input/amazon-reviews/test.csv' , header = None)"
   ]
  },
  {
   "cell_type": "code",
   "execution_count": 38,
   "metadata": {
    "execution": {
     "iopub.execute_input": "2025-10-08T07:50:57.522911Z",
     "iopub.status.busy": "2025-10-08T07:50:57.522376Z",
     "iopub.status.idle": "2025-10-08T07:50:57.530580Z",
     "shell.execute_reply": "2025-10-08T07:50:57.529000Z",
     "shell.execute_reply.started": "2025-10-08T07:50:57.522877Z"
    },
    "trusted": true
   },
   "outputs": [],
   "source": [
    "df_train.columns = ['polarity', 'title', 'text']\n",
    "df_test.columns = ['polarity', 'title', 'text']"
   ]
  },
  {
   "cell_type": "code",
   "execution_count": 39,
   "metadata": {
    "execution": {
     "iopub.execute_input": "2025-10-08T07:50:58.651376Z",
     "iopub.status.busy": "2025-10-08T07:50:58.650255Z",
     "iopub.status.idle": "2025-10-08T07:50:58.663394Z",
     "shell.execute_reply": "2025-10-08T07:50:58.662035Z",
     "shell.execute_reply.started": "2025-10-08T07:50:58.651343Z"
    },
    "trusted": true
   },
   "outputs": [
    {
     "name": "stdout",
     "output_type": "stream",
     "text": [
      "<class 'pandas.core.frame.DataFrame'>\n",
      "RangeIndex: 3600000 entries, 0 to 3599999\n",
      "Data columns (total 3 columns):\n",
      " #   Column    Dtype \n",
      "---  ------    ----- \n",
      " 0   polarity  int64 \n",
      " 1   title     object\n",
      " 2   text      object\n",
      "dtypes: int64(1), object(2)\n",
      "memory usage: 82.4+ MB\n"
     ]
    }
   ],
   "source": [
    "df_train.info()"
   ]
  },
  {
   "cell_type": "code",
   "execution_count": 40,
   "metadata": {
    "execution": {
     "iopub.execute_input": "2025-10-08T07:50:59.550397Z",
     "iopub.status.busy": "2025-10-08T07:50:59.550058Z",
     "iopub.status.idle": "2025-10-08T07:50:59.562614Z",
     "shell.execute_reply": "2025-10-08T07:50:59.561402Z",
     "shell.execute_reply.started": "2025-10-08T07:50:59.550375Z"
    },
    "trusted": true
   },
   "outputs": [
    {
     "data": {
      "text/html": [
       "<div>\n",
       "<style scoped>\n",
       "    .dataframe tbody tr th:only-of-type {\n",
       "        vertical-align: middle;\n",
       "    }\n",
       "\n",
       "    .dataframe tbody tr th {\n",
       "        vertical-align: top;\n",
       "    }\n",
       "\n",
       "    .dataframe thead th {\n",
       "        text-align: right;\n",
       "    }\n",
       "</style>\n",
       "<table border=\"1\" class=\"dataframe\">\n",
       "  <thead>\n",
       "    <tr style=\"text-align: right;\">\n",
       "      <th></th>\n",
       "      <th>polarity</th>\n",
       "      <th>title</th>\n",
       "      <th>text</th>\n",
       "    </tr>\n",
       "  </thead>\n",
       "  <tbody>\n",
       "    <tr>\n",
       "      <th>0</th>\n",
       "      <td>2</td>\n",
       "      <td>Stuning even for the non-gamer</td>\n",
       "      <td>This sound track was beautiful! It paints the ...</td>\n",
       "    </tr>\n",
       "    <tr>\n",
       "      <th>1</th>\n",
       "      <td>2</td>\n",
       "      <td>The best soundtrack ever to anything.</td>\n",
       "      <td>I'm reading a lot of reviews saying that this ...</td>\n",
       "    </tr>\n",
       "    <tr>\n",
       "      <th>2</th>\n",
       "      <td>2</td>\n",
       "      <td>Amazing!</td>\n",
       "      <td>This soundtrack is my favorite music of all ti...</td>\n",
       "    </tr>\n",
       "    <tr>\n",
       "      <th>3</th>\n",
       "      <td>2</td>\n",
       "      <td>Excellent Soundtrack</td>\n",
       "      <td>I truly like this soundtrack and I enjoy video...</td>\n",
       "    </tr>\n",
       "    <tr>\n",
       "      <th>4</th>\n",
       "      <td>2</td>\n",
       "      <td>Remember, Pull Your Jaw Off The Floor After He...</td>\n",
       "      <td>If you've played the game, you know how divine...</td>\n",
       "    </tr>\n",
       "  </tbody>\n",
       "</table>\n",
       "</div>"
      ],
      "text/plain": [
       "   polarity                                              title  \\\n",
       "0         2                     Stuning even for the non-gamer   \n",
       "1         2              The best soundtrack ever to anything.   \n",
       "2         2                                           Amazing!   \n",
       "3         2                               Excellent Soundtrack   \n",
       "4         2  Remember, Pull Your Jaw Off The Floor After He...   \n",
       "\n",
       "                                                text  \n",
       "0  This sound track was beautiful! It paints the ...  \n",
       "1  I'm reading a lot of reviews saying that this ...  \n",
       "2  This soundtrack is my favorite music of all ti...  \n",
       "3  I truly like this soundtrack and I enjoy video...  \n",
       "4  If you've played the game, you know how divine...  "
      ]
     },
     "execution_count": 40,
     "metadata": {},
     "output_type": "execute_result"
    }
   ],
   "source": [
    "df_train.head()"
   ]
  },
  {
   "cell_type": "code",
   "execution_count": 41,
   "metadata": {
    "execution": {
     "iopub.execute_input": "2025-10-08T07:51:02.830374Z",
     "iopub.status.busy": "2025-10-08T07:51:02.829980Z",
     "iopub.status.idle": "2025-10-08T07:51:02.862542Z",
     "shell.execute_reply": "2025-10-08T07:51:02.861486Z",
     "shell.execute_reply.started": "2025-10-08T07:51:02.830349Z"
    },
    "trusted": true
   },
   "outputs": [
    {
     "data": {
      "text/plain": [
       "array([2, 1])"
      ]
     },
     "execution_count": 41,
     "metadata": {},
     "output_type": "execute_result"
    }
   ],
   "source": [
    "# polarity column description\n",
    "# 1 == Negative\n",
    "# 2 == Positive\n",
    "df_train['polarity'].unique()"
   ]
  },
  {
   "cell_type": "code",
   "execution_count": 42,
   "metadata": {
    "execution": {
     "iopub.execute_input": "2025-10-08T08:01:38.202502Z",
     "iopub.status.busy": "2025-10-08T08:01:38.202083Z",
     "iopub.status.idle": "2025-10-08T08:01:38.234278Z",
     "shell.execute_reply": "2025-10-08T08:01:38.233096Z",
     "shell.execute_reply.started": "2025-10-08T08:01:38.202466Z"
    },
    "trusted": true
   },
   "outputs": [
    {
     "data": {
      "text/plain": [
       "polarity\n",
       "2    1800000\n",
       "1    1800000\n",
       "Name: count, dtype: int64"
      ]
     },
     "execution_count": 42,
     "metadata": {},
     "output_type": "execute_result"
    }
   ],
   "source": [
    "df_train['polarity'].value_counts()"
   ]
  },
  {
   "cell_type": "code",
   "execution_count": 43,
   "metadata": {
    "execution": {
     "iopub.execute_input": "2025-10-08T07:51:03.901189Z",
     "iopub.status.busy": "2025-10-08T07:51:03.900818Z",
     "iopub.status.idle": "2025-10-08T07:51:05.655304Z",
     "shell.execute_reply": "2025-10-08T07:51:05.654151Z",
     "shell.execute_reply.started": "2025-10-08T07:51:03.901162Z"
    },
    "trusted": true
   },
   "outputs": [],
   "source": [
    "# LOWER CASE THE DATA OF COLUMN 'title'\n",
    "\n",
    "df_train['title'] = df_train['title'].str.lower()"
   ]
  },
  {
   "cell_type": "code",
   "execution_count": 44,
   "metadata": {
    "execution": {
     "iopub.execute_input": "2025-10-08T07:51:08.041213Z",
     "iopub.status.busy": "2025-10-08T07:51:08.040841Z",
     "iopub.status.idle": "2025-10-08T07:51:13.506976Z",
     "shell.execute_reply": "2025-10-08T07:51:13.506018Z",
     "shell.execute_reply.started": "2025-10-08T07:51:08.041185Z"
    },
    "trusted": true
   },
   "outputs": [],
   "source": [
    "# LOWER CASE THE DATA OF COLUMN 'text'\n",
    "\n",
    "df_train['text'] = df_train['text'].str.lower()"
   ]
  },
  {
   "cell_type": "code",
   "execution_count": 45,
   "metadata": {
    "execution": {
     "iopub.execute_input": "2025-10-08T07:51:54.871208Z",
     "iopub.status.busy": "2025-10-08T07:51:54.870827Z",
     "iopub.status.idle": "2025-10-08T07:51:55.180535Z",
     "shell.execute_reply": "2025-10-08T07:51:55.178979Z",
     "shell.execute_reply.started": "2025-10-08T07:51:54.871173Z"
    },
    "trusted": true
   },
   "outputs": [
    {
     "data": {
      "text/plain": [
       "2734240                                   encore board game\n",
       "1782746                                not well constructed\n",
       "2377141                                 not what i expected\n",
       "1690157                                      not really oem\n",
       "689903     i'm trying to correct a typo in a review on line\n",
       "1608049                             defining \"wonderful\"...\n",
       "3026075    very comfy for dog, but very difficult for owner\n",
       "785160                                  a little disturbing\n",
       "1454593                                   wireless speakers\n",
       "219207          hmmm, i thought this would have been it....\n",
       "Name: title, dtype: object"
      ]
     },
     "execution_count": 45,
     "metadata": {},
     "output_type": "execute_result"
    }
   ],
   "source": [
    "df_train['title'].sample(10)"
   ]
  },
  {
   "cell_type": "code",
   "execution_count": 46,
   "metadata": {
    "execution": {
     "iopub.execute_input": "2025-10-08T08:03:36.690324Z",
     "iopub.status.busy": "2025-10-08T08:03:36.689274Z",
     "iopub.status.idle": "2025-10-08T08:03:36.696277Z",
     "shell.execute_reply": "2025-10-08T08:03:36.695135Z",
     "shell.execute_reply.started": "2025-10-08T08:03:36.690276Z"
    },
    "trusted": true
   },
   "outputs": [
    {
     "name": "stdout",
     "output_type": "stream",
     "text": [
      "shape of df_train:  (3600000, 3)\n",
      "shape of df_test:  (400000, 3)\n"
     ]
    }
   ],
   "source": [
    "print(\"shape of df_train: \",df_train.shape)\n",
    "print(\"shape of df_test: \",df_test.shape)"
   ]
  },
  {
   "cell_type": "code",
   "execution_count": 47,
   "metadata": {
    "execution": {
     "iopub.execute_input": "2025-10-08T08:34:39.064735Z",
     "iopub.status.busy": "2025-10-08T08:34:39.064173Z",
     "iopub.status.idle": "2025-10-08T08:34:40.143380Z",
     "shell.execute_reply": "2025-10-08T08:34:40.142460Z",
     "shell.execute_reply.started": "2025-10-08T08:34:39.064701Z"
    },
    "trusted": true
   },
   "outputs": [
    {
     "data": {
      "text/plain": [
       "polarity      0\n",
       "title       207\n",
       "text          0\n",
       "dtype: int64"
      ]
     },
     "execution_count": 47,
     "metadata": {},
     "output_type": "execute_result"
    }
   ],
   "source": [
    "# nan values in df_train\n",
    "df_train.isna().sum()"
   ]
  },
  {
   "cell_type": "code",
   "execution_count": 48,
   "metadata": {
    "execution": {
     "iopub.execute_input": "2025-10-08T08:35:59.381194Z",
     "iopub.status.busy": "2025-10-08T08:35:59.380855Z",
     "iopub.status.idle": "2025-10-08T08:35:59.887402Z",
     "shell.execute_reply": "2025-10-08T08:35:59.886246Z",
     "shell.execute_reply.started": "2025-10-08T08:35:59.381170Z"
    },
    "trusted": true
   },
   "outputs": [
    {
     "data": {
      "text/plain": [
       "polarity     0\n",
       "title       24\n",
       "text         0\n",
       "dtype: int64"
      ]
     },
     "execution_count": 48,
     "metadata": {},
     "output_type": "execute_result"
    }
   ],
   "source": [
    "#  nan values in df_test\n",
    "df_test.isna().sum()"
   ]
  },
  {
   "cell_type": "code",
   "execution_count": 49,
   "metadata": {
    "execution": {
     "iopub.execute_input": "2025-10-08T08:36:49.200865Z",
     "iopub.status.busy": "2025-10-08T08:36:49.200485Z",
     "iopub.status.idle": "2025-10-08T08:36:50.519013Z",
     "shell.execute_reply": "2025-10-08T08:36:50.517860Z",
     "shell.execute_reply.started": "2025-10-08T08:36:49.200838Z"
    },
    "trusted": true
   },
   "outputs": [],
   "source": [
    "# drop nan values \n",
    "df_train = df_train.dropna()\n",
    "df_test = df_test.dropna()"
   ]
  },
  {
   "cell_type": "code",
   "execution_count": 50,
   "metadata": {},
   "outputs": [],
   "source": [
    "#  droping title as i think it is not needed for now \n",
    "\n",
    "df_train = df_train.drop(['title'], axis=1)"
   ]
  },
  {
   "cell_type": "code",
   "execution_count": 51,
   "metadata": {
    "execution": {
     "iopub.execute_input": "2025-10-08T08:47:33.410480Z",
     "iopub.status.busy": "2025-10-08T08:47:33.410094Z",
     "iopub.status.idle": "2025-10-08T08:47:33.416223Z",
     "shell.execute_reply": "2025-10-08T08:47:33.414921Z",
     "shell.execute_reply.started": "2025-10-08T08:47:33.410427Z"
    },
    "trusted": true
   },
   "outputs": [],
   "source": [
    "import string \n",
    "translator = str.maketrans('','',string.punctuation)\n",
    "digit = str.maketrans('','',string.digits)"
   ]
  },
  {
   "cell_type": "code",
   "execution_count": 52,
   "metadata": {
    "execution": {
     "iopub.execute_input": "2025-10-08T08:37:23.851408Z",
     "iopub.status.busy": "2025-10-08T08:37:23.851096Z",
     "iopub.status.idle": "2025-10-08T08:37:30.904304Z",
     "shell.execute_reply": "2025-10-08T08:37:30.903242Z",
     "shell.execute_reply.started": "2025-10-08T08:37:23.851385Z"
    },
    "trusted": true
   },
   "outputs": [],
   "source": [
    "# removing punctuations from title\n",
    "# df_train['title'] = df_train['title'].apply(lambda x: x.translate(translator))"
   ]
  },
  {
   "cell_type": "code",
   "execution_count": 53,
   "metadata": {
    "execution": {
     "iopub.execute_input": "2025-10-08T08:38:19.392084Z",
     "iopub.status.busy": "2025-10-08T08:38:19.391036Z",
     "iopub.status.idle": "2025-10-08T08:38:41.929188Z",
     "shell.execute_reply": "2025-10-08T08:38:41.928237Z",
     "shell.execute_reply.started": "2025-10-08T08:38:19.391997Z"
    },
    "trusted": true
   },
   "outputs": [],
   "source": [
    "# removing punctuations from text\n",
    "df_train['text'] = df_train['text'].apply(lambda x: x.translate(translator))"
   ]
  },
  {
   "cell_type": "code",
   "execution_count": 54,
   "metadata": {
    "execution": {
     "iopub.execute_input": "2025-10-08T09:14:22.309065Z",
     "iopub.status.busy": "2025-10-08T09:14:22.308696Z",
     "iopub.status.idle": "2025-10-08T09:14:22.581071Z",
     "shell.execute_reply": "2025-10-08T09:14:22.580069Z",
     "shell.execute_reply.started": "2025-10-08T09:14:22.309037Z"
    },
    "trusted": true
   },
   "outputs": [
    {
     "data": {
      "text/html": [
       "<div>\n",
       "<style scoped>\n",
       "    .dataframe tbody tr th:only-of-type {\n",
       "        vertical-align: middle;\n",
       "    }\n",
       "\n",
       "    .dataframe tbody tr th {\n",
       "        vertical-align: top;\n",
       "    }\n",
       "\n",
       "    .dataframe thead th {\n",
       "        text-align: right;\n",
       "    }\n",
       "</style>\n",
       "<table border=\"1\" class=\"dataframe\">\n",
       "  <thead>\n",
       "    <tr style=\"text-align: right;\">\n",
       "      <th></th>\n",
       "      <th>polarity</th>\n",
       "      <th>text</th>\n",
       "    </tr>\n",
       "  </thead>\n",
       "  <tbody>\n",
       "    <tr>\n",
       "      <th>950113</th>\n",
       "      <td>1</td>\n",
       "      <td>guess what a lot of people really like hemingw...</td>\n",
       "    </tr>\n",
       "    <tr>\n",
       "      <th>2274748</th>\n",
       "      <td>1</td>\n",
       "      <td>i bought this foot rest this year and use it q...</td>\n",
       "    </tr>\n",
       "    <tr>\n",
       "      <th>1635993</th>\n",
       "      <td>1</td>\n",
       "      <td>this product is a waste of money i did not hav...</td>\n",
       "    </tr>\n",
       "    <tr>\n",
       "      <th>2956821</th>\n",
       "      <td>2</td>\n",
       "      <td>although i enjoyed all of the shows on this dv...</td>\n",
       "    </tr>\n",
       "    <tr>\n",
       "      <th>847763</th>\n",
       "      <td>1</td>\n",
       "      <td>bought 3 of these and none of them are actuall...</td>\n",
       "    </tr>\n",
       "    <tr>\n",
       "      <th>1802284</th>\n",
       "      <td>2</td>\n",
       "      <td>william shakespeare is proving himself a damn ...</td>\n",
       "    </tr>\n",
       "    <tr>\n",
       "      <th>911025</th>\n",
       "      <td>1</td>\n",
       "      <td>i hated this edition it was a sorry excuse for...</td>\n",
       "    </tr>\n",
       "    <tr>\n",
       "      <th>3580502</th>\n",
       "      <td>2</td>\n",
       "      <td>not my normal style but it dragged me in all t...</td>\n",
       "    </tr>\n",
       "    <tr>\n",
       "      <th>2731107</th>\n",
       "      <td>2</td>\n",
       "      <td>this book is an excellent story about the chil...</td>\n",
       "    </tr>\n",
       "    <tr>\n",
       "      <th>2910393</th>\n",
       "      <td>1</td>\n",
       "      <td>brief little snapshot in the hardcoreturned me...</td>\n",
       "    </tr>\n",
       "  </tbody>\n",
       "</table>\n",
       "</div>"
      ],
      "text/plain": [
       "         polarity                                               text\n",
       "950113          1  guess what a lot of people really like hemingw...\n",
       "2274748         1  i bought this foot rest this year and use it q...\n",
       "1635993         1  this product is a waste of money i did not hav...\n",
       "2956821         2  although i enjoyed all of the shows on this dv...\n",
       "847763          1  bought 3 of these and none of them are actuall...\n",
       "1802284         2  william shakespeare is proving himself a damn ...\n",
       "911025          1  i hated this edition it was a sorry excuse for...\n",
       "3580502         2  not my normal style but it dragged me in all t...\n",
       "2731107         2  this book is an excellent story about the chil...\n",
       "2910393         1  brief little snapshot in the hardcoreturned me..."
      ]
     },
     "execution_count": 54,
     "metadata": {},
     "output_type": "execute_result"
    }
   ],
   "source": [
    "df_train.sample(10)"
   ]
  },
  {
   "cell_type": "code",
   "execution_count": 55,
   "metadata": {
    "execution": {
     "iopub.execute_input": "2025-10-08T08:48:21.681487Z",
     "iopub.status.busy": "2025-10-08T08:48:21.681091Z",
     "iopub.status.idle": "2025-10-08T08:48:27.526731Z",
     "shell.execute_reply": "2025-10-08T08:48:27.525694Z",
     "shell.execute_reply.started": "2025-10-08T08:48:21.681460Z"
    },
    "trusted": true
   },
   "outputs": [],
   "source": [
    "# removing the numbers from the \"title\" \n",
    "# df_train['title'] = df_train['title'].apply(lambda x: x.translate(digit))"
   ]
  },
  {
   "cell_type": "code",
   "execution_count": 56,
   "metadata": {
    "execution": {
     "iopub.execute_input": "2025-10-08T08:49:12.650245Z",
     "iopub.status.busy": "2025-10-08T08:49:12.649839Z",
     "iopub.status.idle": "2025-10-08T08:49:26.676729Z",
     "shell.execute_reply": "2025-10-08T08:49:26.675800Z",
     "shell.execute_reply.started": "2025-10-08T08:49:12.650217Z"
    },
    "trusted": true
   },
   "outputs": [],
   "source": [
    "# removing the numbers from the \"text\"\n",
    "df_train['text'] = df_train['text'].apply(lambda x: x.translate(digit))"
   ]
  },
  {
   "cell_type": "code",
   "execution_count": 57,
   "metadata": {},
   "outputs": [
    {
     "data": {
      "text/html": [
       "<div>\n",
       "<style scoped>\n",
       "    .dataframe tbody tr th:only-of-type {\n",
       "        vertical-align: middle;\n",
       "    }\n",
       "\n",
       "    .dataframe tbody tr th {\n",
       "        vertical-align: top;\n",
       "    }\n",
       "\n",
       "    .dataframe thead th {\n",
       "        text-align: right;\n",
       "    }\n",
       "</style>\n",
       "<table border=\"1\" class=\"dataframe\">\n",
       "  <thead>\n",
       "    <tr style=\"text-align: right;\">\n",
       "      <th></th>\n",
       "      <th>polarity</th>\n",
       "      <th>text</th>\n",
       "    </tr>\n",
       "  </thead>\n",
       "  <tbody>\n",
       "    <tr>\n",
       "      <th>310509</th>\n",
       "      <td>1</td>\n",
       "      <td>this book only deserves one star for the fact ...</td>\n",
       "    </tr>\n",
       "    <tr>\n",
       "      <th>800785</th>\n",
       "      <td>1</td>\n",
       "      <td>i cant stand the way this kid sings its like h...</td>\n",
       "    </tr>\n",
       "    <tr>\n",
       "      <th>2815601</th>\n",
       "      <td>1</td>\n",
       "      <td>the picture looks like a great little stable b...</td>\n",
       "    </tr>\n",
       "    <tr>\n",
       "      <th>1945181</th>\n",
       "      <td>1</td>\n",
       "      <td>i thought id get this little biometric drive a...</td>\n",
       "    </tr>\n",
       "    <tr>\n",
       "      <th>2816227</th>\n",
       "      <td>2</td>\n",
       "      <td>really enjoy using this machine after several ...</td>\n",
       "    </tr>\n",
       "    <tr>\n",
       "      <th>115278</th>\n",
       "      <td>1</td>\n",
       "      <td>interesting concept how would the world react ...</td>\n",
       "    </tr>\n",
       "    <tr>\n",
       "      <th>3103970</th>\n",
       "      <td>2</td>\n",
       "      <td>i have read many reviews discussing the diffic...</td>\n",
       "    </tr>\n",
       "    <tr>\n",
       "      <th>1338996</th>\n",
       "      <td>2</td>\n",
       "      <td>i bought this as a fathers day gift for my hus...</td>\n",
       "    </tr>\n",
       "    <tr>\n",
       "      <th>2808172</th>\n",
       "      <td>1</td>\n",
       "      <td>the product is really really bad the locking i...</td>\n",
       "    </tr>\n",
       "    <tr>\n",
       "      <th>1992578</th>\n",
       "      <td>2</td>\n",
       "      <td>i was a little nervous ordering these glasses ...</td>\n",
       "    </tr>\n",
       "  </tbody>\n",
       "</table>\n",
       "</div>"
      ],
      "text/plain": [
       "         polarity                                               text\n",
       "310509          1  this book only deserves one star for the fact ...\n",
       "800785          1  i cant stand the way this kid sings its like h...\n",
       "2815601         1  the picture looks like a great little stable b...\n",
       "1945181         1  i thought id get this little biometric drive a...\n",
       "2816227         2  really enjoy using this machine after several ...\n",
       "115278          1  interesting concept how would the world react ...\n",
       "3103970         2  i have read many reviews discussing the diffic...\n",
       "1338996         2  i bought this as a fathers day gift for my hus...\n",
       "2808172         1  the product is really really bad the locking i...\n",
       "1992578         2  i was a little nervous ordering these glasses ..."
      ]
     },
     "execution_count": 57,
     "metadata": {},
     "output_type": "execute_result"
    }
   ],
   "source": [
    "df_train.sample(10)"
   ]
  },
  {
   "cell_type": "code",
   "execution_count": 58,
   "metadata": {
    "execution": {
     "iopub.execute_input": "2025-10-08T09:13:32.963977Z",
     "iopub.status.busy": "2025-10-08T09:13:32.963617Z",
     "iopub.status.idle": "2025-10-08T09:13:35.556209Z",
     "shell.execute_reply": "2025-10-08T09:13:35.555191Z",
     "shell.execute_reply.started": "2025-10-08T09:13:32.963952Z"
    },
    "trusted": true
   },
   "outputs": [],
   "source": [
    "# removing extra spaces just in case \n",
    "# df_train['title'] = df_train['title'].str.strip()\n",
    "df_train['text'] = df_train['text'].str.strip()"
   ]
  },
  {
   "cell_type": "code",
   "execution_count": null,
   "metadata": {},
   "outputs": [],
   "source": []
  },
  {
   "cell_type": "code",
   "execution_count": null,
   "metadata": {},
   "outputs": [],
   "source": [
    "# removing stop words and also applying the tokenizations\n",
    "\n",
    "def tokenization_and_stopwords_removal(text):\n",
    "    \n",
    "\n",
    "    pass"
   ]
  },
  {
   "cell_type": "code",
   "execution_count": 59,
   "metadata": {},
   "outputs": [],
   "source": [
    "def len_of_text(text):\n",
    "    return len(text)\n",
    "\n",
    "df_train['text length'] = df_train['text'].apply(len_of_text)"
   ]
  },
  {
   "cell_type": "code",
   "execution_count": null,
   "metadata": {},
   "outputs": [
    {
     "data": {
      "text/html": [
       "<div>\n",
       "<style scoped>\n",
       "    .dataframe tbody tr th:only-of-type {\n",
       "        vertical-align: middle;\n",
       "    }\n",
       "\n",
       "    .dataframe tbody tr th {\n",
       "        vertical-align: top;\n",
       "    }\n",
       "\n",
       "    .dataframe thead th {\n",
       "        text-align: right;\n",
       "    }\n",
       "</style>\n",
       "<table border=\"1\" class=\"dataframe\">\n",
       "  <thead>\n",
       "    <tr style=\"text-align: right;\">\n",
       "      <th></th>\n",
       "      <th>polarity</th>\n",
       "      <th>text</th>\n",
       "      <th>text length</th>\n",
       "    </tr>\n",
       "  </thead>\n",
       "  <tbody>\n",
       "    <tr>\n",
       "      <th>982564</th>\n",
       "      <td>1</td>\n",
       "      <td>i ordered it a month ago it arrived  weeks ago...</td>\n",
       "      <td>557</td>\n",
       "    </tr>\n",
       "    <tr>\n",
       "      <th>1349009</th>\n",
       "      <td>2</td>\n",
       "      <td>cd item arrived ok but plastic cd case was bro...</td>\n",
       "      <td>169</td>\n",
       "    </tr>\n",
       "    <tr>\n",
       "      <th>3047774</th>\n",
       "      <td>2</td>\n",
       "      <td>if you need a new camera want something to fit...</td>\n",
       "      <td>318</td>\n",
       "    </tr>\n",
       "    <tr>\n",
       "      <th>15706</th>\n",
       "      <td>2</td>\n",
       "      <td>perfect bookgreatest tips tricks and tweakings...</td>\n",
       "      <td>113</td>\n",
       "    </tr>\n",
       "    <tr>\n",
       "      <th>2527102</th>\n",
       "      <td>1</td>\n",
       "      <td>ok i should have read all the other reviews fi...</td>\n",
       "      <td>491</td>\n",
       "    </tr>\n",
       "    <tr>\n",
       "      <th>314082</th>\n",
       "      <td>1</td>\n",
       "      <td>i ordered this mouse because i have been using...</td>\n",
       "      <td>747</td>\n",
       "    </tr>\n",
       "    <tr>\n",
       "      <th>2502483</th>\n",
       "      <td>2</td>\n",
       "      <td>with photographs of actual tapings this book i...</td>\n",
       "      <td>203</td>\n",
       "    </tr>\n",
       "    <tr>\n",
       "      <th>2551438</th>\n",
       "      <td>2</td>\n",
       "      <td>the movie is practically a stepbystep of the b...</td>\n",
       "      <td>307</td>\n",
       "    </tr>\n",
       "    <tr>\n",
       "      <th>2857224</th>\n",
       "      <td>2</td>\n",
       "      <td>when i got this game i installed it and then w...</td>\n",
       "      <td>278</td>\n",
       "    </tr>\n",
       "    <tr>\n",
       "      <th>302086</th>\n",
       "      <td>1</td>\n",
       "      <td>well worth seeing about a psychic in the south...</td>\n",
       "      <td>281</td>\n",
       "    </tr>\n",
       "  </tbody>\n",
       "</table>\n",
       "</div>"
      ],
      "text/plain": [
       "         polarity                                               text  \\\n",
       "982564          1  i ordered it a month ago it arrived  weeks ago...   \n",
       "1349009         2  cd item arrived ok but plastic cd case was bro...   \n",
       "3047774         2  if you need a new camera want something to fit...   \n",
       "15706           2  perfect bookgreatest tips tricks and tweakings...   \n",
       "2527102         1  ok i should have read all the other reviews fi...   \n",
       "314082          1  i ordered this mouse because i have been using...   \n",
       "2502483         2  with photographs of actual tapings this book i...   \n",
       "2551438         2  the movie is practically a stepbystep of the b...   \n",
       "2857224         2  when i got this game i installed it and then w...   \n",
       "302086          1  well worth seeing about a psychic in the south...   \n",
       "\n",
       "         text length  \n",
       "982564           557  \n",
       "1349009          169  \n",
       "3047774          318  \n",
       "15706            113  \n",
       "2527102          491  \n",
       "314082           747  \n",
       "2502483          203  \n",
       "2551438          307  \n",
       "2857224          278  \n",
       "302086           281  "
      ]
     },
     "execution_count": 65,
     "metadata": {},
     "output_type": "execute_result"
    }
   ],
   "source": [
    "\n",
    "# df_train.sample(10)"
   ]
  }
 ],
 "metadata": {
  "kaggle": {
   "accelerator": "none",
   "dataSources": [
    {
     "datasetId": 1340369,
     "sourceId": 2233682,
     "sourceType": "datasetVersion"
    }
   ],
   "dockerImageVersionId": 31153,
   "isGpuEnabled": false,
   "isInternetEnabled": true,
   "language": "python",
   "sourceType": "notebook"
  },
  "kernelspec": {
   "display_name": "Python 3 (ipykernel)",
   "language": "python",
   "name": "python3"
  },
  "language_info": {
   "codemirror_mode": {
    "name": "ipython",
    "version": 3
   },
   "file_extension": ".py",
   "mimetype": "text/x-python",
   "name": "python",
   "nbconvert_exporter": "python",
   "pygments_lexer": "ipython3",
   "version": "3.11.13"
  }
 },
 "nbformat": 4,
 "nbformat_minor": 4
}
